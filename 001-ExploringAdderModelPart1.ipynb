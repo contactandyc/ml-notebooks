{
 "cells": [
  {
   "cell_type": "markdown",
   "id": "98fd6413-b362-41d1-88ec-0b755a2381bf",
   "metadata": {},
   "source": [
    "# Exploring the Adder model\n",
    "\n",
    "The goal of this section is to introduce\n",
    "\n",
    "- an intuition for an optimally tuned model / neural network for addition\n",
    "- hyperparameter search"
   ]
  },
  {
   "cell_type": "code",
   "execution_count": null,
   "id": "04e6cad4-65ed-4a8a-8420-2549d5a124d7",
   "metadata": {},
   "outputs": [],
   "source": [
    "!pip install torchviz matplotlib graphviz"
   ]
  },
  {
   "cell_type": "markdown",
   "id": "d2f43d1c-a7ec-46ec-b276-542708f63288",
   "metadata": {},
   "source": [
    "# A simpler Adder\n",
    "\n",
    "In the [000-Introduction](000-Introduction.pynb), the Adder was introduced with several layers each having 4 nodes.\n",
    "\n",
    "The next model will have no hidden layers and "
   ]
  },
  {
   "cell_type": "code",
   "execution_count": 36,
   "id": "0e1908eb-4302-4f5d-8453-08716a357e54",
   "metadata": {},
   "outputs": [
    {
     "name": "stdout",
     "output_type": "stream",
     "text": [
      "Adder(\n",
      "  (output): Linear(in_features=2, out_features=1, bias=True)\n",
      ")\n"
     ]
    },
    {
     "data": {
      "image/png": "[encoded data removed]",
      "text/plain": [
       "<Figure size 640x480 with 1 Axes>"
      ]
     },
     "metadata": {},
     "output_type": "display_data"
    },
    {
     "data": {
      "text/plain": [
       "tensor([57.1360], grad_fn=<ViewBackward0>)"
      ]
     },
     "execution_count": 36,
     "metadata": {},
     "output_type": "execute_result"
    }
   ],
   "source": [
    "import torch\n",
    "import matplotlib.pyplot as plt\n",
    "import numpy as np\n",
    "\n",
    "import shared\n",
    "\n",
    "# Define the neural network model\n",
    "class Adder(torch.nn.Module):\n",
    "    def __init__(self):\n",
    "        super(Adder, self).__init__()\n",
    "        self.output = torch.nn.Linear(2, 1)\n",
    "    \n",
    "    def forward(self, x):\n",
    "        return self.output(x)\n",
    "\n",
    "\n",
    "# Calling this to make the work repeatable\n",
    "shared.set_random_seed(42)\n",
    "model = Adder()\n",
    "print(model)\n",
    "shared.draw_dnn([2, 1])\n",
    "\n",
    "# This won't print a good result since the model is not trained\n",
    "model(torch.Tensor([30, 70]))"
   ]
  },
  {
   "cell_type": "code",
   "execution_count": 37,
   "id": "61e9e996-3290-4aa9-b2a1-2d4df71baed2",
   "metadata": {},
   "outputs": [
    {
     "name": "stdout",
     "output_type": "stream",
     "text": [
      "[1] Loss: 32311.173828125\n",
      "[200] Loss: 26800.296875\n",
      "[400] Loss: 21999.75\n",
      "[600] Loss: 17869.798828125\n",
      "[800] Loss: 14344.5693359375\n",
      "[1000] Loss: 11362.8251953125\n",
      "[1200] Loss: 8867.384765625\n",
      "[1400] Loss: 6804.47607421875\n",
      "[1600] Loss: 5123.32421875\n",
      "[1800] Loss: 3775.833984375\n",
      "[2000] Loss: 2716.3427734375\n",
      "30 + 70 = 87.75\n",
      "70 + 30 = 86.33\n",
      "130 + -30 = 84.21\n",
      "3 + 7 = 8.39\n",
      "33 + 7 = 34.10\n",
      "-330000 + 30000 = -256027.22\n"
     ]
    }
   ],
   "source": [
    "# Train the model in the same way that it was in 000-Introduction\n",
    "\n",
    "shared.set_random_seed(42)\n",
    "model = Adder()\n",
    "\n",
    "# Hyperparameters\n",
    "learning_rate = 0.0002\n",
    "optimizer = torch.optim.Adam(model.parameters(), lr=learning_rate)\n",
    "criterion = torch.nn.MSELoss()\n",
    "\n",
    "epochs = 2000\n",
    "\n",
    "# Generate 10,000 random pairs between -500 and 500\n",
    "input_data = (torch.rand(10000, 2) * 1000) - 500\n",
    "\n",
    "# Calculate the target sum for each pair\n",
    "target = torch.sum(input_data, dim=1, keepdim=True)\n",
    "\n",
    "for i in range(epochs):\n",
    "    # Get a prediction from the model\n",
    "    prediction = model(input_data)\n",
    "\n",
    "    # Compute loss by comparing the prediction to target\n",
    "    loss = criterion(prediction, target)\n",
    "\n",
    "    # Print the first epoch, and one for every 10% thereafter.\n",
    "    print(f\"[{i+1}] Loss: {loss.item()}\") if i == 0 or i % (epochs / 10) == (epochs / 10)-1 else None\n",
    "        \n",
    "    # Zero the gradients so that they can accumulate during loss.backward()\n",
    "    optimizer.zero_grad()\n",
    "    # Set all of the gradients in the network based upon the loss\n",
    "    loss.backward()\n",
    "    # Alter the weights in the network based upon the accumulated gradients and the learning rate using the optimizer\n",
    "    optimizer.step()\n",
    "\n",
    "def test_model(model, a, b):\n",
    "    return model(torch.Tensor([[a, b]])).item()\n",
    "\n",
    "print(f\"30 + 70 = {test_model(model, 30, 70):0.2f}\")\n",
    "print(f\"70 + 30 = {test_model(model, 70, 30):0.2f}\")\n",
    "print(f\"130 + -30 = {test_model(model, 130, -30):0.2f}\")\n",
    "print(f\"3 + 7 = {test_model(model, 3, 7):0.2f}\")\n",
    "print(f\"33 + 7 = {test_model(model, 33, 7):0.2f}\")\n",
    "print(f\"-330000 + 30000 = {test_model(model, -330000, 30000):0.2f}\")"
   ]
  },
  {
   "cell_type": "markdown",
   "id": "0a07efa5-9eb7-4acc-869e-97eea2e53bd4",
   "metadata": {},
   "source": [
    "# Model inaccuracy can simply mean that more training loops are necessary\n",
    "\n",
    "A training loop is where the model predicts all of the data, calculates the loss against the target, then applies the loss back to the network using gradient descent and a learning rate usually using some type of optimizer such as Adam.\n",
    "\n",
    "This training loop is called an epoch.  In the example above, 2000 epochs was not enough, but it is clear that with every couple hundred epochs, the answer was closer to being right. \n",
    "\n",
    "To make this easier to test, I'm going to encapsulate everything except the hyperparameters into a couple functions."
   ]
  },
  {
   "cell_type": "code",
   "execution_count": 38,
   "id": "3321797f-8249-44a9-8fe6-f87ab946f8c2",
   "metadata": {},
   "outputs": [],
   "source": [
    "def train_model(model, epochs, optimizer, criterion):\n",
    "    # Generate 10,000 random pairs between -500 and 500\n",
    "    input_data = (torch.rand(10000, 2) * 1000) - 500\n",
    "    \n",
    "    # Calculate the target sum for each pair\n",
    "    target = torch.sum(input_data, dim=1, keepdim=True)\n",
    "\n",
    "    for i in range(epochs):\n",
    "        # Get a prediction from the model\n",
    "        prediction = model(input_data)\n",
    "    \n",
    "        # Compute loss by comparing the prediction to target\n",
    "        loss = criterion(prediction, target)\n",
    "    \n",
    "        # Print the first epoch, and one for every 10% thereafter.\n",
    "        print(f\"[{i+1}] Loss: {loss.item()}\") if i == 0 or i % (epochs / 10) == (epochs / 10)-1 else None\n",
    "            \n",
    "        # Zero the gradients so that they can accumulate during loss.backward()\n",
    "        optimizer.zero_grad()\n",
    "        # Set all of the gradients in the network based upon the loss\n",
    "        loss.backward()\n",
    "        # Alter the weights in the network based upon the accumulated gradients and the learning rate using the optimizer\n",
    "        optimizer.step()\n",
    "\n",
    "    return loss.item()\n",
    "\n",
    "def test_model(model, a, b):\n",
    "    return model(torch.Tensor([[a, b]])).item()\n",
    "\n",
    "def run_tests(model):\n",
    "    print(f\"30 + 70 = {test_model(model, 30, 70):0.2f}\")\n",
    "    print(f\"70 + 30 = {test_model(model, 70, 30):0.2f}\")\n",
    "    print(f\"130 + -30 = {test_model(model, 130, -30):0.2f}\")\n",
    "    print(f\"3 + 7 = {test_model(model, 3, 7):0.2f}\")\n",
    "    print(f\"33 + 7 = {test_model(model, 33, 7):0.2f}\")\n",
    "    print(f\"-330000 + 30000 = {test_model(model, -330000, 30000):0.2f}\")"
   ]
  },
  {
   "cell_type": "markdown",
   "id": "f71bb214-d4c1-49e0-b41f-db196a2a9089",
   "metadata": {},
   "source": [
    "# Trying 10000 epochs\n",
    "\n",
    "Sometimes all a model needs is more epochs"
   ]
  },
  {
   "cell_type": "code",
   "execution_count": 39,
   "id": "a32f80e2-e568-4499-8b24-f368e710aed0",
   "metadata": {},
   "outputs": [
    {
     "name": "stdout",
     "output_type": "stream",
     "text": [
      "[1] Loss: 32311.173828125\n",
      "[1000] Loss: 11362.8251953125\n",
      "[2000] Loss: 2716.3427734375\n",
      "[3000] Loss: 322.765380859375\n",
      "[4000] Loss: 11.216792106628418\n",
      "[5000] Loss: 0.06645700335502625\n",
      "[6000] Loss: 0.0022333788219839334\n",
      "[7000] Loss: 8.012600301299244e-05\n",
      "[8000] Loss: 8.322875260091678e-07\n",
      "[9000] Loss: 1.9726560651633918e-07\n",
      "[10000] Loss: 6.793563755991272e-08\n",
      "30 + 70 = 100.00\n",
      "70 + 30 = 100.00\n",
      "130 + -30 = 100.00\n",
      "3 + 7 = 10.00\n",
      "33 + 7 = 40.00\n",
      "-330000 + 30000 = -299999.75\n",
      "Final Loss: 6.793563755991272e-08\n"
     ]
    }
   ],
   "source": [
    "shared.set_random_seed(42)\n",
    "model = Adder()\n",
    "\n",
    "# Hyperparameters\n",
    "learning_rate = 0.0002\n",
    "optimizer = torch.optim.Adam(model.parameters(), lr=learning_rate)\n",
    "criterion = torch.nn.MSELoss()\n",
    "epochs = 10000\n",
    "\n",
    "loss = train_model(model, epochs, optimizer, criterion)\n",
    "run_tests(model)\n",
    "print(f\"Final Loss: {loss}\")"
   ]
  },
  {
   "cell_type": "markdown",
   "id": "566c0b24-09a1-40f3-bb60-136af8ac6769",
   "metadata": {},
   "source": [
    "# Model inspection\n",
    "\n",
    "The model becomes very close to being accurate"
   ]
  },
  {
   "cell_type": "code",
   "execution_count": 40,
   "id": "2f82ceb6-105c-4772-8226-667c36e921c0",
   "metadata": {},
   "outputs": [
    {
     "name": "stdout",
     "output_type": "stream",
     "text": [
      "output.weight:\n",
      "tensor([[1.0000, 1.0000]])\n",
      "\n",
      "output.bias:\n",
      "tensor([-7.6265e-06])\n",
      "\n"
     ]
    }
   ],
   "source": [
    "# Print weights and biases\n",
    "for name, param in model.named_parameters():\n",
    "    print(f'{name}:\\n{param.data}\\n')"
   ]
  },
  {
   "cell_type": "markdown",
   "id": "7a7fcab7-4fa3-4e35-ad25-621e19d93c27",
   "metadata": {},
   "source": [
    "Given the defined Adder network and the specified parameters, calculating the output for an input of [120, 80] is straightforward. The Adder network consists of a single linear layer without any activation function, which performs the following computation for the output:\n",
    "\n",
    "$[ \\text{Output} = \\text{input} \\times \\text{weight}^\\top + \\text{bias} ]$\n",
    "\n",
    "Given the weights and bias, the computation would be:\n",
    "\n",
    "$[ \\text{Output} = [120, 80] \\begin{bmatrix} 1.0000 \\\\ 1.0000 \\end{bmatrix} + (-7.6265e-06) ]$\n",
    "\n",
    "This simplifies to:\n",
    "\n",
    "$[ \\text{Output} = (120 \\times 1.0000) + (80 \\times 1.0000) - 7.6265e-06 ]$\n",
    "$[ \\text{Output} = 120 + 80 - 7.6265e-06 ]$\n",
    "$[ \\text{Output} = 200 - 7.6265e-06 ]$\n",
    "\n",
    "The bias is extremely small and close to zero, so it has an insignificant effect on the result. Thus, the output is essentially 200. \n",
    "\n",
    "## The model learned 1.0\n",
    "\n",
    "The model through training figured out that the weights should be 1.0.  If you multiply a number by 1.0, it is equal to itself.  Through many epochs, the model eventually settled on this value - which can empircally be provent to be correct.\n",
    "\n",
    "Let's try a few other approaches to train the model.  Note that the model is recreated after calling set_random_seed so that the weights will be consistent when it is run again."
   ]
  },
  {
   "cell_type": "code",
   "execution_count": 41,
   "id": "27f0a84c-d1b6-4168-9e81-157d429ed21a",
   "metadata": {},
   "outputs": [
    {
     "name": "stdout",
     "output_type": "stream",
     "text": [
      "[1] Loss: 32311.173828125\n",
      "[20] Loss: 1418.3138427734375\n",
      "[40] Loss: 397.2597961425781\n",
      "[60] Loss: 6.099096775054932\n",
      "[80] Loss: 6.194967269897461\n",
      "[100] Loss: 0.8245401382446289\n",
      "[120] Loss: 0.06237169727683067\n",
      "[140] Loss: 0.007759497966617346\n",
      "[160] Loss: 0.0012017496628686786\n",
      "[180] Loss: 0.0001498078490840271\n",
      "[200] Loss: 1.5145161341934e-05\n",
      "30 + 70 = 100.00\n",
      "70 + 30 = 100.00\n",
      "130 + -30 = 100.00\n",
      "3 + 7 = 10.00\n",
      "33 + 7 = 40.00\n",
      "-330000 + 30000 = -300004.41\n",
      "Final Loss: 1.5145161341934e-05\n"
     ]
    }
   ],
   "source": [
    "# Increase learning_rate from 0.0002 to 0.02 and reduce epochs to 200\n",
    "\n",
    "shared.set_random_seed(42)\n",
    "model = Adder()\n",
    "\n",
    "# Hyperparameters\n",
    "learning_rate = 0.02\n",
    "optimizer = torch.optim.Adam(model.parameters(), lr=learning_rate)\n",
    "criterion = torch.nn.MSELoss()\n",
    "epochs = 200\n",
    "\n",
    "loss = train_model(model, epochs, optimizer, criterion)\n",
    "run_tests(model)\n",
    "print(f\"Final Loss: {loss}\")"
   ]
  },
  {
   "cell_type": "markdown",
   "id": "89c29a72-8e36-4e86-bc4f-dc2977b2ecf5",
   "metadata": {},
   "source": [
    "# Hyperparameter tuning\n",
    "\n",
    "We could keep trying different numbers for the learning rate or epochs, but there is a better way.  What if the machine could figure this out for us!"
   ]
  }
 ],
 "metadata": {
  "kernelspec": {
   "display_name": "Python 3 (ipykernel)",
   "language": "python",
   "name": "python3"
  },
  "language_info": {
   "codemirror_mode": {
    "name": "ipython",
    "version": 3
   },
   "file_extension": ".py",
   "mimetype": "text/x-python",
   "name": "python",
   "nbconvert_exporter": "python",
   "pygments_lexer": "ipython3",
   "version": "3.11.4"
  }
 },
 "nbformat": 4,
 "nbformat_minor": 5
}
