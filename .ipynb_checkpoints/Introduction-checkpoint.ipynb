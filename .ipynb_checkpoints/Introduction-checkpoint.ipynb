{
 "cells": [
  {
   "cell_type": "markdown",
   "id": "d250b8aa-80d2-4932-87a8-c438ec6554db",
   "metadata": {},
   "source": [
    "# Preamble\n",
    "\n",
    "Many of the ideas, text, and code are mine.  However, I have used ChatGPT to also generate ideas, code, and text.  ChatGPT often provides insights that I didn't think of or different ways of explaining things.  Overall, my goal is not to write a tutorial using only my own ideas, thoughts, and code, but rather to write something that is useful for understanding how deep learning at an intuitive level.  There will be terms which are thrown out which probably won't make much sense in the beginning.  I hope to explain them in time."
   ]
  },
  {
   "cell_type": "code",
   "execution_count": null,
   "id": "75ce3242-3f0b-498e-9767-e54cc6eea31f",
   "metadata": {},
   "outputs": [],
   "source": [
    "!pip install torchviz matplotlib graphviz\n"
   ]
  },
  {
   "cell_type": "markdown",
   "id": "6049ddaa-a3d6-45ce-a61d-a160de52a3b0",
   "metadata": {},
   "source": [
    "# A Brief Overview of Neural Networks and AI\n",
    "\n",
    "Neural networks (NN) are computational **models** inspired by the human brain, designed to recognize patterns. They consist of interconnected **layers** of nodes, or \"**neurons**,\" that process and transmit information. Typically organized into **input**, **hidden**, and **output layers**, neural networks are **trained** on data to perform **tasks** like **classification**, **regression**, and **pattern recognition**. The training process involves adjusting the **weights** of connections based on the difference between the **predicted** and **actual output**, often using algorithms like **backpropagation**.\n",
    "\n",
    "A Deep Neural Network (DNN) is a type of neural network with multiple layers between the input and output layers. These additional layers enable the network to learn more complex features and representations, making DNNs well-suited for tasks like image and speech recognition, natural language processing, and more. The \"deep\" in DNN refers to the depth, or number of layers, in the network.\n",
    "\n",
    "Neural networks with at least one hidden layer are theoretically capable of approximating any **continuous function** to a high degree of **accuracy**, given enough neurons and appropriate training. This is known as the Universal Approximation Theorem. However, the practical ability to approximate any function depends on factors like **architecture**, **training data**, and **optimization algorithms**.\n",
    "\n",
    "Outside of neural networks, various other types of machine learning models exist, including:\n",
    "\n",
    "* Decision Trees: Used for classification and regression tasks.\n",
    "* Random Forest: **Ensemble** of decision trees that improves prediction accuracy.\n",
    "* Support Vector Machines (SVM): Effective for classification and some regression tasks.\n",
    "* Linear Regression: Used for predicting numerical values based on **linear relationships**.\n",
    "* Logistic Regression: Used for **binary classification** tasks.\n",
    "* K-Nearest Neighbors (K-NN): Classification or regression based on the closest data points.\n",
    "* Naive Bayes: Probabilistic classifier based on Bayes' theorem.\n",
    "* Gradient Boosting Machines: Ensemble method that combines multiple **weak learners**.\n",
    "* Hidden Markov Models: Used in **time series analysis** and **natural language processing (NLP)**.\n",
    "\n",
    "Each has its own strengths, weaknesses, and suitability for specific types of data and tasks.\n",
    "\n",
    "All of these machine learning models can act as functions for **prediction**. They take an input (or set of inputs) and produce an output based on the learned patterns in the data. The type of prediction—whether it's classification, regression, or clustering—depends on the specific model and how it's trained.\n",
    "\n",
    "They all take the form of f(x) => y where x is some input data.\n",
    "\n",
    "All of the above models or functions are **supervised**.  All this means is that to make the model work properly, they must be trained using input/expected output pairs.  For example, to train a model to add, it would need a bunch of input equations such as 1+1 and the corresponding expected output of 2.\n",
    "\n",
    "Some machine learning approaches are **unsupervised**.  These are generally **clustering** algorithms or algorithms which alter the **dimensionality of data**.\n",
    "\n",
    "* Hidden Markov Models: Used in time series analysis and natural language processing.\n",
    "* Clustering Algorithms (e.g., K-Means, Hierarchical): Used for unsupervised learning to group data.\n",
    "* Principal Component Analysis (PCA): Dimensionality reduction technique.\n",
    "* Gaussian Mixture Models: Probabilistic model for clustering.\n",
    "\n",
    "Note that Hidden Markov Models can be both supervised or unsupervised.\n",
    "\n",
    "This document will largely focus on neural networks (NN).  I find myself frequently using neural networks and deep neural networks interchangeably.  In general, most useful neural networks that are used today are in fact DNNs.  DNNs and NNs operate in the same manner.  There are just more operations in a DNN as it has more layers."
   ]
  },
  {
   "cell_type": "markdown",
   "id": "62885ed8-0b47-4cee-b947-d299463eda6d",
   "metadata": {},
   "source": [
    "# A Simple Function"
   ]
  },
  {
   "cell_type": "code",
   "execution_count": 2,
   "id": "22d1da51-323d-415f-949d-7e054c50c7e3",
   "metadata": {},
   "outputs": [
    {
     "name": "stdout",
     "output_type": "stream",
     "text": [
      "3 + 5 = 8\n"
     ]
    }
   ],
   "source": [
    "def add(a, b):\n",
    "    return a + b\n",
    "\n",
    "print('3 + 5 =', add(3, 5))"
   ]
  },
  {
   "cell_type": "markdown",
   "id": "6082b53c-22c3-4bbd-8eff-6cf4a356e2bd",
   "metadata": {},
   "source": [
    "# Common Python Imports\n",
    "\n",
    "The following imports are used very frequent when working with PyTorch"
   ]
  },
  {
   "cell_type": "code",
   "execution_count": 25,
   "id": "ffc5f97e-8193-477b-aecd-9b34f1f677a1",
   "metadata": {},
   "outputs": [],
   "source": [
    "import torch\n",
    "import matplotlib.pyplot as plt\n",
    "import numpy as np\n",
    "import random\n",
    "\n",
    "# Set random seed for reproducibility\n",
    "def set_random_seed(SEED):\n",
    "    torch.manual_seed(SEED)\n",
    "    torch.cuda.manual_seed(SEED)\n",
    "    torch.backends.cudnn.deterministic = True\n",
    "    np.random.seed(SEED)\n",
    "    random.seed(SEED)\n",
    "\n",
    "set_random_seed(42)"
   ]
  },
  {
   "cell_type": "markdown",
   "id": "8cc8b5d5-bf1d-4f6c-85e2-6b91c5e51469",
   "metadata": {},
   "source": [
    "# Models\n",
    "\n",
    "All of the **supervised** **models** above take **input**.  Input is like the a and b to the add function above.  They also produce an output.  In the function above, if 3 and 5 are passed as input, the function will return 8 as output.  A model's output is often called **output**, or a **prediction**. \n",
    "\n",
    "The function `add(a, b)` is deterministic and straightforward; it simply returns the sum of `a` and `b`. For this specific task of addition, it would always be correct, assuming that `a` and `b` are numbers or other types that support the addition operation. It's a simple, well-defined function with predictable behavior.\n",
    "\n",
    "Imagine if the add function above didn't include the logic `return a + b` and instead we asked the computer to figure out how to convert a and b to the proper output.\n",
    "\n",
    "If the add function lacked the logic `return a + b`, and you wanted the computer to \"learn\" how to perform addition, you'd essentially be asking for a machine learning model to approximate the addition function. Through `supervised learning`, you could train the model on numerous examples of addition problems (input pairs a, b) and their corresponding sums (outputs). Once trained, the model could then \"infer\" or predict the sum for any new pair of numbers a and b, effectively approximating the addition function."
   ]
  },
  {
   "cell_type": "markdown",
   "id": "b173ddee-2cc3-4915-b69d-fce3bc782d7a",
   "metadata": {},
   "source": [
    "# Models look like functions but they are not quite the same\n",
    "\n",
    "**A model is a collection of layers and operations organized in a specific architecture, often used to map inputs to outputs**. It may include **learnable parameters**, and is usually designed for **tasks like classification, regression, etc**.\n",
    "\n",
    "A function is a block of reusable code that performs a specific operation. It doesn't have learnable parameters and does the same operation each time it's called.\n",
    "\n",
    "In machine learning, a model can be considered a complex function with learnable parameters.\n",
    "\n",
    "A model is **trained** to perform a **task**.  Once the model is sufficiently **accurate**, it can then be used like a function to produce results.  A function typically will always produce the right and consistent answer if it is programmed to do so through a series of well designed steps.  A model on the other hand relies on being trained through lots of data and less on those steps.  For example, the same model might be trained to do different things.\n",
    "\n",
    "It is often the case that a model might be 99% accurate.  All this means is that in 99 out of a 100 cases, it will produce the right answer AND in 1 out of every 100 cases, it will produce the wrong answer.  Models usually require more computational resources to arrive at the answer than functions.  Functions in general should be used when there is a way to programatically compute the answer in a reliable manner.  Models should be used when writing such functions would be arbitrarily complex.\n",
    "\n",
    "It doesn't make sense to write a neural network to solve an addition problem.  However, it can help to illustrate the differences and important concepts related to machine learning.\n",
    "\n",
    "The first concept introduced here is a model which supports adding two numbers together and finally outputting the sum of those two numbers.  "
   ]
  },
  {
   "cell_type": "markdown",
   "id": "12f1ed80-0ace-45f4-8435-96ab33a02a48",
   "metadata": {},
   "source": [
    "# The First Model\n",
    "\n",
    "The model below likely won't make a lot of sense at first.  It consists of layers of neurons (which are just floating point numbers) which will be organized to provide the final answer.\n",
    "\n",
    "The input layer maps the two inputs (a + b) into the `network` of numbers.  This input mapping layer is the first layer.  The next layer consists of 4 weights (the output parameter\n"
   ]
  },
  {
   "cell_type": "code",
   "execution_count": 285,
   "id": "80bc4b8f-ecec-4010-aa10-b0e0044eb93c",
   "metadata": {},
   "outputs": [
    {
     "name": "stdout",
     "output_type": "stream",
     "text": [
      "Adder(\n",
      "  (input): Linear(in_features=2, out_features=4, bias=True)\n",
      "  (hidden): Linear(in_features=4, out_features=4, bias=True)\n",
      "  (output): Linear(in_features=4, out_features=1, bias=True)\n",
      ")\n"
     ]
    }
   ],
   "source": [
    "# Define the neural network model\n",
    "class Adder(torch.nn.Module):\n",
    "    def __init__(self):\n",
    "        super(Adder, self).__init__()\n",
    "        self.input = torch.nn.Linear(2, 4)\n",
    "        self.hidden = torch.nn.Linear(4, 4)\n",
    "        self.output = torch.nn.Linear(4, 1)\n",
    "    \n",
    "    def forward(self, x):\n",
    "        x = self.input(x)\n",
    "        x = self.hidden(x)\n",
    "        return self.output(x)\n",
    "\n",
    "\n",
    "# Calling this to make the work repeatable\n",
    "set_random_seed(42)\n",
    "model = Adder()\n",
    "print(model)"
   ]
  },
  {
   "cell_type": "markdown",
   "id": "c2c3d311-ca4d-4484-9b1a-c31bdc122418",
   "metadata": {},
   "source": [
    "# Visualizing Neural Networks\n",
    "\n",
    "The following code is very useful for visualizing deep neural networks.  At the end, the draw_dnn function is called to visualize the Adder model above."
   ]
  },
  {
   "cell_type": "code",
   "execution_count": 227,
   "id": "7b0b9771-f63e-40f0-b1a3-e29502b178d6",
   "metadata": {},
   "outputs": [
    {
     "data": {
      "image/png": "[encoded data removed]",
      "text/plain": [
       "<Figure size 640x480 with 1 Axes>"
      ]
     },
     "metadata": {},
     "output_type": "display_data"
    }
   ],
   "source": [
    "def draw_dnn(layers):\n",
    "    fig, ax = plt.subplots()\n",
    "    for i, n_neurons in enumerate(layers):\n",
    "        y_offset = -n_neurons / 2.0 + 0.5\n",
    "        for j in range(n_neurons):\n",
    "            plt.scatter(i, j + y_offset, s=500, zorder=2)\n",
    "            if i == 0:\n",
    "                plt.text(i, j + y_offset, 'Input', verticalalignment='center', horizontalalignment='right')\n",
    "            elif i == len(layers) - 1:\n",
    "                plt.text(i, j + y_offset, 'Output', verticalalignment='center', horizontalalignment='right')\n",
    "            else:\n",
    "                plt.text(i, j + y_offset, f'Hidden{i}', verticalalignment='center', horizontalalignment='right')\n",
    "    \n",
    "    for i in range(len(layers) - 1):\n",
    "        y_offset_src = -layers[i] / 2.0 + 0.5\n",
    "        y_offset_dst = -layers[i+1] / 2.0 + 0.5\n",
    "        for j in range(layers[i]):\n",
    "            for k in range(layers[i+1]):\n",
    "                plt.plot([i, i+1], [j + y_offset_src, k + y_offset_dst], c='black', zorder=1)\n",
    "    \n",
    "    plt.axis('off')\n",
    "    plt.show()\n",
    "\n",
    "draw_dnn([2, 4, 4, 1])"
   ]
  },
  {
   "cell_type": "markdown",
   "id": "05319aa3-9d46-4857-b686-e4132e76ac7c",
   "metadata": {},
   "source": [
    "# Testing the model\n",
    "\n",
    "We can now test our new Adder model.  If all is well, then it should be able to answer with 100 (30 + 70)"
   ]
  },
  {
   "cell_type": "code",
   "execution_count": 228,
   "id": "20ff6ce6-ece8-4776-a267-0df8b4505307",
   "metadata": {},
   "outputs": [
    {
     "data": {
      "text/plain": [
       "1.1862752437591553"
      ]
     },
     "execution_count": 228,
     "metadata": {},
     "output_type": "execute_result"
    }
   ],
   "source": [
    "model.forward(torch.Tensor([[30, 70]])).item()"
   ]
  },
  {
   "cell_type": "markdown",
   "id": "b51aff84-4c69-4b71-9da7-139b4163c098",
   "metadata": {},
   "source": [
    "# The model isn't ready\n",
    "\n",
    "30 + 70 != 1.186\n",
    "\n",
    "The model is initially set to random numbers.  The following code shows the values of the layers of the network."
   ]
  },
  {
   "cell_type": "code",
   "execution_count": 229,
   "id": "386bcc12-44b9-43c1-ab80-ec17f273b7ea",
   "metadata": {},
   "outputs": [
    {
     "name": "stdout",
     "output_type": "stream",
     "text": [
      "input.weight:\n",
      "tensor([[ 0.5406,  0.5869],\n",
      "        [-0.1657,  0.6496],\n",
      "        [-0.1549,  0.1427],\n",
      "        [-0.3443,  0.4153]])\n",
      "None\n",
      "\n",
      "input.bias:\n",
      "tensor([ 0.6233, -0.5188,  0.6146,  0.1323])\n",
      "None\n",
      "\n",
      "hidden.weight:\n",
      "tensor([[ 0.3694,  0.0677,  0.2411, -0.0706],\n",
      "        [ 0.3854,  0.0739, -0.2334,  0.1274],\n",
      "        [-0.2304, -0.0586, -0.2031,  0.3317],\n",
      "        [-0.3947, -0.2305, -0.1412, -0.3006]])\n",
      "None\n",
      "\n",
      "hidden.bias:\n",
      "tensor([ 0.0472, -0.4938,  0.4516, -0.4247])\n",
      "None\n",
      "\n",
      "output.weight:\n",
      "tensor([[ 0.3860,  0.0832, -0.1624,  0.3090]])\n",
      "None\n",
      "\n",
      "output.bias:\n",
      "tensor([0.0779])\n",
      "None\n",
      "\n"
     ]
    }
   ],
   "source": [
    "# Print weights and biases\n",
    "for name, param in model.named_parameters():\n",
    "    print(f'{name}:\\n{param.data}\\n{param.grad}\\n')"
   ]
  },
  {
   "cell_type": "markdown",
   "id": "4e31a923-9c4d-4bb3-8ae1-a972b4583df1",
   "metadata": {},
   "source": [
    "The forward calculation works in the following way:\n",
    "\n",
    "1. **Input Layer**: Linear transformation $ Y = X \\cdot W_{\\text{input}} + b_{\\text{input}} $\n",
    "    - $( W_{\\text{input}}) $ and $ ( b_{\\text{input}}) $ are the weight and bias matrices for the input layer.\n",
    "    - Input \\( X = [30, 70] \\), \\( Y \\) would be a 1x4 tensor.\n",
    "    - $ Y = [30, 70] \\cdot W_{\\text{input}} + b_{\\text{input}} $\n",
    "<br/>\n",
    "2. **Hidden Layer**: Linear transformation $ Y_{\\text{hidden}} = Y \\cdot W_{\\text{hidden}} + b_{\\text{hidden}} $\n",
    "    - $( W_{\\text{hidden}})$ and $( b_{\\text{hidden}} )$ are the weight and bias matrices for the hidden layer.\n",
    "    - $ ( Y_{\\text{hidden}} ) $ would be a 1x4 tensor.\n",
    "    - $ Y_{\\text{hidden}} = Y \\cdot W_{\\text{hidden}} + b_{\\text{hidden}} $\n",
    "<br/>\n",
    "3. **Output Layer**: Linear transformation $ Y_{\\text{output}} = Y_{\\text{hidden}} \\cdot W_{\\text{output}} + b_{\\text{output}} $\n",
    "    - $ ( W_{\\text{output}} ) $ and $ ( b_{\\text{output}} ) $ are the weight and bias matrices for the output layer.\n",
    "    - $ ( Y_{\\text{output}} ) $ would be a 1x1 tensor.\n",
    "    - $ Y_{\\text{output}} = Y_{\\text{hidden}} \\cdot W_{\\text{output}} + b_{\\text{output}} $\n",
    "\n",
    "All the weight and bias matrices are initialized as random numbers.\n",
    "\n",
    "The following code shows how to manually run the steps above and then compares it to calling the model directly."
   ]
  },
  {
   "cell_type": "code",
   "execution_count": 230,
   "id": "52abc2fe-e3ec-42d0-9878-32fab632acd0",
   "metadata": {},
   "outputs": [
    {
     "name": "stdout",
     "output_type": "stream",
     "text": [
      "input_tensor.shape: torch.Size([1, 2])\n",
      "W_input.shape: torch.Size([4, 2])\n",
      "After Input Layer: tensor([[57.9250, 39.9805,  5.9549, 18.8736]], grad_fn=<AddBackward0>)\n",
      "After Hidden Layer: tensor([[ 24.2555,  25.8031, -10.1860, -39.0174]], grad_fn=<AddBackward0>)\n",
      "After Output Layer: tensor([[1.1863]], grad_fn=<AddBackward0>)\n",
      "Model's Forward Pass Output: tensor([[1.1863]], grad_fn=<AddmmBackward0>)\n"
     ]
    }
   ],
   "source": [
    "# Input tensor\n",
    "input_tensor = torch.Tensor([[30, 70]])\n",
    "\n",
    "# Extract weights and biases\n",
    "W_input = model.input.weight\n",
    "b_input = model.input.bias\n",
    "\n",
    "W_hidden = model.hidden.weight\n",
    "b_hidden = model.hidden.bias\n",
    "\n",
    "W_output = model.output.weight\n",
    "b_output = model.output.bias\n",
    "\n",
    "print(f\"input_tensor.shape: {input_tensor.shape}\")\n",
    "print(f\"W_input.shape: {W_input.shape}\")\n",
    "\n",
    "# Step 1: Input Layer\n",
    "# multiply the input_tensor by the transposed W_input weights and then add the b_input bias\n",
    "Y_input = torch.matmul(input_tensor, W_input.t()) + b_input\n",
    "print(f\"After Input Layer: {Y_input}\")\n",
    "\n",
    "# Step 2: Hidden Layer\n",
    "Y_hidden = torch.matmul(Y_input, W_hidden.t()) + b_hidden\n",
    "print(f\"After Hidden Layer: {Y_hidden}\")\n",
    "\n",
    "# Step 3: Output Layer\n",
    "Y_output = torch.matmul(Y_hidden, W_output.t()) + b_output\n",
    "print(f\"After Output Layer: {Y_output}\")\n",
    "\n",
    "# Verify with the forward pass of the model\n",
    "model_output = model(input_tensor)\n",
    "print(f\"Model's Forward Pass Output: {model_output}\")"
   ]
  },
  {
   "cell_type": "markdown",
   "id": "f0873d37-00ba-4626-9743-a23511736b0f",
   "metadata": {},
   "source": [
    "The output from using the 3 steps is the same as calling the model directly.  `model(input_tensor)` is equivalent to `model.forward(input_tensor)`. \n",
    "\n",
    "# Neural networks consist of many Linear Transformations\n",
    "\n",
    "Notice that in each layer the computation is basically the same taking the form\n",
    "\n",
    "$ Y = X \\cdot W + b $\n",
    "\n",
    "**W** and **b** are the weight and bias matrices and **X** is the input matrix.  **Y** is the output of the **linear transformation**.\n",
    "\n",
    "A linear transformation is a way to change a set of points (vectors) in space so that lines remain lines, and the origin remains fixed. In simpler terms, it's a rule for moving every point to a specific new location without twisting, warping, or tearing the shape formed by those points. In machine learning, this is often done using matrices to systematically shift, rotate, or scale the input data.\n",
    "\n",
    "In the above code, the function used the `t()` function which transposes a matrix.  In the first instance, the input_tensor has a **shape** of (1,2) and the W_input has a shape of (4, 2).  Matrix multiplication requires that **broadcasting rules** be followed.  Taking the transposed form of W_input changes its shape to (2, 4).  The result (Y_input) of the matrix multiplication is a matrix of (1, 4).  \n",
    "\n",
    "```\n",
    "Y_input = torch.matmul(input_tensor, W_input.t()) + b_input\n",
    "```\n"
   ]
  },
  {
   "cell_type": "markdown",
   "id": "a53f6b11-521b-4867-a71e-c1f65a054555",
   "metadata": {},
   "source": [
    "# Broadcasting Rules\n",
    "\n",
    "If you understand broadcasting rules, it can help to make sense of when to transpose a matrix and what types of shape transformations can happen.  [Andrej Karpathy's Zero to Hero course](https://karpathy.ai/zero-to-hero.html) explains this well!\n",
    "\n",
    "[Read this to understand broadcasting rules](https://numpy.org/doc/stable/user/basics.broadcasting.html).  "
   ]
  },
  {
   "cell_type": "markdown",
   "id": "32e154eb-0c74-4412-a664-68c8823a63e3",
   "metadata": {},
   "source": [
    "# Neural networks usually start out with random values that need trained\n",
    "\n",
    "A model is **trained** by having its weights adjusted by small amounts so that the **accuracy** improves and the **loss** shrinks.  During training, it is common for the **loss** to grow instead of shrink in some cases.  This happens when the model potentially skips over the ideal weight combination or finds itself in a local minima.  \n",
    "\n",
    "\n",
    "# Gradient Descent and Learning Rate\n",
    "\n",
    "The process of applying gradient descent to a neural network deposits gradients to each parameter of the network.  The gradient is a floating point number indicating the direction the parameter in the network needs to change to improve **accuracy** and reduce **loss**.  Once the gradients are distributed through the network, they are applied by multiplying the **negative** gradient by the weight or bias and a **learning rate**.  The negative is why the process is called **descent**.  When numbers are multiplied and one of them is negative, it makes the entire result negative.  The gradient is like a slope and if the negative wasn't used, the result would continue to grow away from the desired result.\n",
    "\n",
    "# Optimizer\n",
    "\n",
    "The gradients are deposited to each weight and depending upon the network setup a multiple gradients may be deposited to the same weight.  When this happens, the gradients are simply summed together.  For this reason, before depositing gradients it is important to set them all to zero.  In PyTorch this is done by using an **optimizer**. \n",
    "\n",
    "# Learning Rate\n",
    "\n",
    "The **learning rate** is typically a small number 0.01E-4 to 0.01E-5.  The primary reason for the learning rate being so small is to prevent the model from skipping past the best settings.  There is a lot that can be done with learning rates including making them dynamic, altering them based upon the given epoch.\n",
    "\n",
    "# Epoch\n",
    "\n",
    "An epoch is one complete pass through the entire training dataset. During an epoch, the model's parameters are updated iteratively using subsets of the training data, often referred to as batches. Multiple epochs are usually necessary to sufficiently train a model.  In the code below, 2000 epochs are used training on the single equation `30+70 = 100`.\n",
    "\n",
    "# Hyperparameters\n",
    "\n",
    "A hyperparameter is a parameter whose value is set before the training process begins, as opposed to the parameters of the model, which are learned during training. Examples include learning rate, batch size, and number of epochs. Hyperparameters are often tuned to optimize model performance.\n",
    "\n",
    "# Loss function\n",
    "\n",
    "The loss function (often called criterion) is used to compare the model's prediction to the actual value.  In the example below, the loss function is the MSELoss() function.  The MSELoss function calculates the average of the squares of the differences between predicted and actual values.\n",
    "\n",
    "At the end of the code below, 99.9778 is predicted for 30+70.  The model seems to be performing well."
   ]
  },
  {
   "cell_type": "code",
   "execution_count": 393,
   "id": "6a136337-88fe-4211-81f8-d9accf912bc9",
   "metadata": {},
   "outputs": [
    {
     "name": "stdout",
     "output_type": "stream",
     "text": [
      "[1] Prediction: 1.1862752437591553, Loss: 9764.1533203125\n",
      "[200] Prediction: 12.131690979003906, Loss: 7720.83984375\n",
      "[400] Prediction: 26.5450382232666, Loss: 5395.6318359375\n",
      "[600] Prediction: 44.40176010131836, Loss: 3091.164306640625\n",
      "[800] Prediction: 63.6128044128418, Loss: 1324.0279541015625\n",
      "[1000] Prediction: 80.54126739501953, Loss: 378.64227294921875\n",
      "[1200] Prediction: 91.87659454345703, Loss: 65.98971557617188\n",
      "[1400] Prediction: 97.37152862548828, Loss: 6.9088616371154785\n",
      "[1600] Prediction: 99.3274917602539, Loss: 0.4522673189640045\n",
      "[1800] Prediction: 99.86224365234375, Loss: 0.018976811319589615\n",
      "[2000] Prediction: 99.97758483886719, Loss: 0.0005024394486099482\n"
     ]
    },
    {
     "data": {
      "text/plain": [
       "99.97779846191406"
      ]
     },
     "execution_count": 393,
     "metadata": {},
     "output_type": "execute_result"
    }
   ],
   "source": [
    "set_random_seed(42)\n",
    "model = Adder()\n",
    "\n",
    "# Hyperparameters\n",
    "learning_rate = 0.0002\n",
    "optimizer = torch.optim.Adam(model.parameters(), lr=learning_rate)\n",
    "criterion = torch.nn.MSELoss()\n",
    "\n",
    "epochs = 2000\n",
    "\n",
    "# Create one row with [30, 70]\n",
    "input_data = torch.Tensor([[30, 70]])\n",
    "\n",
    "# Compute the sum of each row in input_data\n",
    "target = torch.sum(input_data, dim=1, keepdim=True)\n",
    "\n",
    "for i in range(epochs):\n",
    "    # Get a prediction from the model\n",
    "    prediction = model(input_data)\n",
    "\n",
    "    # Compute loss by comparing the prediction to target\n",
    "    loss = criterion(prediction, target)\n",
    "\n",
    "    # Print the first epoch, and one for every 10% thereafter.\n",
    "    print(f\"[{i+1}] Prediction: {prediction.item()}, Loss: {loss.item()}\") if i == 0 or i % (epochs / 10) == (epochs / 10)-1 else None\n",
    "        \n",
    "    # Zero the gradients so that they can accumulate during loss.backward()\n",
    "    optimizer.zero_grad()\n",
    "    # Set all of the gradients in the network based upon the loss\n",
    "    loss.backward()\n",
    "    # Alter the weights in the network based upon the accumulated gradients and the learning rate using the optimizer\n",
    "    optimizer.step()\n",
    "\n",
    "model(torch.Tensor([[30, 70]])).item()"
   ]
  },
  {
   "cell_type": "markdown",
   "id": "a4c80027-bea5-4d6f-8629-4d58cb026dfb",
   "metadata": {},
   "source": [
    "# Overfitting\n",
    "\n",
    "Overfitting occurs when a model learns the training data too well, capturing noise and anomalies, rather than the underlying pattern. As a result, it performs poorly on new, unseen data. Overfitting is often a sign that a model is too complex relative to the simplicity of the problem. Techniques like **regularization**, **dropout**, and **simpler architectures** can help mitigate overfitting.\n",
    "\n",
    "Notice how that the model has learned to answer 30+70 pretty well, but the other equations aren't right."
   ]
  },
  {
   "cell_type": "code",
   "execution_count": 389,
   "id": "c0f15f11-687c-4ac0-9e0a-3e866bff0fd9",
   "metadata": {},
   "outputs": [
    {
     "name": "stdout",
     "output_type": "stream",
     "text": [
      "30 + 70 = 99.98\n",
      "70 + 30 = 78.66\n",
      "130 + -30 = 46.67\n",
      "3 + 7 = 11.01\n",
      "33 + 7 = 29.47\n"
     ]
    }
   ],
   "source": [
    "def test_model(model, a, b):\n",
    "    return model(torch.Tensor([[a, b]])).item()\n",
    "\n",
    "print(f\"30 + 70 = {test_model(model, 30, 70):0.2f}\")\n",
    "print(f\"70 + 30 = {test_model(model, 70, 30):0.2f}\")\n",
    "print(f\"130 + -30 = {test_model(model, 130, -30):0.2f}\")\n",
    "print(f\"3 + 7 = {test_model(model, 3, 7):0.2f}\")\n",
    "print(f\"33 + 7 = {test_model(model, 33, 7):0.2f}\")"
   ]
  },
  {
   "cell_type": "markdown",
   "id": "01315231-92dc-41e6-9eae-15da7cd6e48b",
   "metadata": {},
   "source": [
    "# Providing lots of examples for training\n",
    "\n",
    "In this case, the model learned from a single example.  It learned to produce 100 when 30 and 70 were presented to it, but as is evident from above, it didn't learn addition.  Notice that 30+70 != 70+30!\n",
    "\n",
    "We can use torch to generate a bunch of examples to train on along with their targets."
   ]
  },
  {
   "cell_type": "code",
   "execution_count": 394,
   "id": "5bb7e044-56a8-479e-8991-93b2ace1e62a",
   "metadata": {},
   "outputs": [
    {
     "name": "stdout",
     "output_type": "stream",
     "text": [
      "tensor([403.9817,  54.6599]) tensor([458.6415])\n"
     ]
    }
   ],
   "source": [
    "# Generate 10,000 random pairs between -500 and 500\n",
    "input_data = (torch.rand(10000, 2) * 1000) - 500\n",
    "\n",
    "# Calculate the target sum for each pair\n",
    "target = torch.sum(input_data, dim=1, keepdim=True)\n",
    "\n",
    "print(input_data[0], target[0])"
   ]
  },
  {
   "cell_type": "code",
   "execution_count": 399,
   "id": "2a6cb9ab-3baf-4848-8384-287bd6ab47a4",
   "metadata": {},
   "outputs": [
    {
     "name": "stdout",
     "output_type": "stream",
     "text": [
      "[1] Loss: 157707.71875\n",
      "[200] Loss: 129525.609375\n",
      "[400] Loss: 94930.3203125\n",
      "[600] Loss: 56312.48046875\n",
      "[800] Loss: 24221.19921875\n",
      "[1000] Loss: 6701.4951171875\n",
      "[1200] Loss: 1136.9481201171875\n",
      "[1400] Loss: 136.98550415039062\n",
      "[1600] Loss: 15.29101848602295\n",
      "[1800] Loss: 1.7806323766708374\n",
      "[2000] Loss: 0.25018075108528137\n",
      "30 + 70 = 99.69\n",
      "70 + 30 = 99.62\n",
      "130 + -30 = 99.51\n",
      "3 + 7 = 9.68\n",
      "33 + 7 = 39.65\n",
      "-330000 + 30000 = -299593.59\n"
     ]
    }
   ],
   "source": [
    "set_random_seed(42)\n",
    "model = Adder()\n",
    "\n",
    "# Hyperparameters\n",
    "learning_rate = 0.0002\n",
    "optimizer = torch.optim.Adam(model.parameters(), lr=learning_rate)\n",
    "criterion = torch.nn.MSELoss()\n",
    "\n",
    "epochs = 2000\n",
    "\n",
    "# Generate 10,000 random pairs between -500 and 500\n",
    "input_data = (torch.rand(10000, 2) * 1000) - 500\n",
    "\n",
    "# Calculate the target sum for each pair\n",
    "target = torch.sum(input_data, dim=1, keepdim=True)\n",
    "\n",
    "for i in range(epochs):\n",
    "    # Get a prediction from the model\n",
    "    prediction = model(input_data)\n",
    "\n",
    "    # Compute loss by comparing the prediction to target\n",
    "    loss = criterion(prediction, target)\n",
    "\n",
    "    # Print the first epoch, and one for every 10% thereafter.\n",
    "    print(f\"[{i+1}] Loss: {loss.item()}\") if i == 0 or i % (epochs / 10) == (epochs / 10)-1 else None\n",
    "        \n",
    "    # Zero the gradients so that they can accumulate during loss.backward()\n",
    "    optimizer.zero_grad()\n",
    "    # Set all of the gradients in the network based upon the loss\n",
    "    loss.backward()\n",
    "    # Alter the weights in the network based upon the accumulated gradients and the learning rate using the optimizer\n",
    "    optimizer.step()\n",
    "\n",
    "print(f\"30 + 70 = {test_model(model, 30, 70):0.2f}\")\n",
    "print(f\"70 + 30 = {test_model(model, 70, 30):0.2f}\")\n",
    "print(f\"130 + -30 = {test_model(model, 130, -30):0.2f}\")\n",
    "print(f\"3 + 7 = {test_model(model, 3, 7):0.2f}\")\n",
    "print(f\"33 + 7 = {test_model(model, 33, 7):0.2f}\")\n",
    "print(f\"-330000 + 30000 = {test_model(model, -330000, 30000):0.2f}\")"
   ]
  },
  {
   "cell_type": "markdown",
   "id": "42615efe-c3ff-4245-b876-8b19438cc77e",
   "metadata": {},
   "source": [
    "# Summary\n",
    "\n"
   ]
  },
  {
   "cell_type": "markdown",
   "id": "3dbfb084-15ee-43b1-9cea-3d08b2f3d669",
   "metadata": {},
   "source": [
    "## Gradient Descent (more details)\n",
    "\n",
    "Models are trained using **gradient descent**.  The \"gradient\" in the name refers to the derivative of the function at the current point. The algorithm takes steps proportional to the negative of the gradient, moving towards the minimum of the function.\n",
    "\n",
    "The derivative of a function at a given point is essentially the slope of the function at that point. In the context of a function $ ( f(x) ) $ of a single variable, the derivative $ ( f'(x) ) $represents the slope of the tangent line to the function at a specific point $ ( x ) $. This slope indicates how the function is changing at that point. For functions of more than one variable, the concept of a derivative generalizes to partial derivatives.\n",
    "\n",
    "A partial derivative is the derivative of a function of multiple variables with respect to one of those variables, keeping the other variables constant. For a function $ ( f(x, y, z, \\ldots) ) $, the partial derivative with respect to $ ( x ) $ would indicate how $ ( f ) $ changes as $ ( x ) $ changes, while keeping $ ( y, z, \\ldots ) $ constant. It is denoted as $ ( \\frac{\\partial f}{\\partial x} ) $ for the variable $ ( x ) $.\n",
    "\n",
    "Partial derivatives are used to form the gradient vector, which combines all the partial derivatives of a function into a single vector. This is useful in multivariable calculus and optimization problems, including machine learning algorithms like gradient descent.\n",
    "\n",
    "The chain rule extends to functions of multiple variables through the use of partial derivatives. This generalizes to more complicated functions and is a cornerstone of backpropagation in neural networks, where it's used to compute gradients of a loss function with respect to the weights.\n",
    "\n",
    "[Andrej Karpathy's Zero to Hero course](https://karpathy.ai/zero-to-hero.html) explains this well!"
   ]
  },
  {
   "cell_type": "markdown",
   "id": "b7a20bc1-4fea-4b29-8db4-a7fb64db9274",
   "metadata": {},
   "source": [
    "# Loss Functions\n",
    "\n",
    "Here's the list of common loss functions with their corresponding PyTorch functions:\n",
    "\n",
    "Each loss function has its own characteristics and is suited for specific types of problems. Choosing the right loss function is crucial for training an effective model.\n",
    "\n",
    "1. **Mean Squared Error (MSE)**\n",
    "   - **PyTorch Function**: `torch.nn.MSELoss()`\n",
    "   - **Description**: Calculates the average of the squares of the differences between predicted and actual values.\n",
    "   - **Best Suited For**: Regression problems.\n",
    "\n",
    "2. **Mean Absolute Error (MAE)**\n",
    "   - **PyTorch Function**: `torch.nn.L1Loss()`\n",
    "   - **Description**: Calculates the average of the absolute differences between predicted and actual values.\n",
    "   - **Best Suited For**: Regression problems with outliers.\n",
    "\n",
    "3. **Cross-Entropy Loss (Log Loss)**\n",
    "   - **PyTorch Function**: `torch.nn.CrossEntropyLoss()`\n",
    "   - **Description**: Measures the performance of a classification model, rewarding confidence in correct classifications.\n",
    "   - **Best Suited For**: Binary and multi-class classification.\n",
    "\n",
    "4. **Hinge Loss**\n",
    "   - **PyTorch Function**: `torch.nn.HingeEmbeddingLoss()`\n",
    "   - **Description**: Used for \"maximum-margin\" classification, particularly for support vector machines.\n",
    "   - **Best Suited For**: Binary classification.\n",
    "\n",
    "5. **Categorical Cross-Entropy**\n",
    "   - **PyTorch Function**: `torch.nn.CrossEntropyLoss()`\n",
    "   - **Description**: Extension of Cross-Entropy loss for multi-class classification problems.\n",
    "   - **Best Suited For**: Multi-class classification with single label.\n",
    "\n",
    "6. **Kullback-Leibler Divergence**\n",
    "   - **PyTorch Function**: `torch.nn.KLDivLoss()`\n",
    "   - **Description**: Measures how one probability distribution diverges from another.\n",
    "   - **Best Suited For**: Multi-class classification, recommendation systems.\n",
    "\n",
    "7. **Poisson Loss**\n",
    "   - **PyTorch Function**: `torch.nn.PoissonNLLLoss()`\n",
    "   - **Description**: Measures the difference between the predicted average occurrence rate and the actual rate.\n",
    "   - **Best Suited For**: Count-based regression problems.\n",
    "\n",
    "8. **Cosine Similarity**\n",
    "   - **PyTorch Function**: Use `torch.nn.CosineSimilarity()` and create a custom loss\n",
    "   - **Description**: Measures the cosine of the angle between the predicted and actual vectors to measure similarity.\n",
    "   - **Best Suited For**: Text similarity, clustering.\n",
    "\n",
    "9. **Huber Loss**\n",
    "   - **PyTorch Function**: `torch.nn.SmoothL1Loss()`\n",
    "   - **Description**: Combination of MAE and MSE; less sensitive to outliers than MSE.\n",
    "   - **Best Suited For**: Regression problems with occasional outliers.\n",
    "\n",
    "10. **Negative Log-Likelihood (NLL)**\n",
    "    - **PyTorch Function**: `torch.nn.NLLLoss()`\n",
    "    - **Description**: Similar to Cross-Entropy but without logit transformation; often used with Softmax.\n",
    "    - **Best Suited For**: Classification problems with Softmax.\n",
    "\n",
    "11. **Focal Loss**\n",
    "    - **PyTorch Function**: Not built-in; custom implementation required.\n",
    "    - **Description**: Modification of Cross-Entropy that gives more weight to hard-to-classify examples.\n",
    "    - **Best Suited For**: Imbalanced classification problems.\n",
    "\n",
    "12. **Dice Loss**\n",
    "    - **PyTorch Function**: Not built-in; custom implementation required.\n",
    "    - **Description**: Measures overlap between predicted and ground truth sets; often used in image segmentation.\n",
    "    - **Best Suited For**: Image segmentation tasks.\n"
   ]
  },
  {
   "cell_type": "markdown",
   "id": "17449993-34c6-4cc2-bfa8-0d41b1808225",
   "metadata": {},
   "source": [
    "# Optimizers\n",
    "\n",
    "Below are some common optimizers, their characteristics, and example PyTorch code snippets to initialize them:\n",
    "\n",
    "### SGD (Stochastic Gradient Descent)\n",
    "- **Why**: Simplicity and ease of implementation.\n",
    "- **Essence**: Updates parameters using the gradient of the loss function.\n",
    "- **Code**: \n",
    "  ```python\n",
    "  optimizer = torch.optim.SGD(model.parameters(), lr=0.01)\n",
    "  ```\n",
    "\n",
    "### Momentum\n",
    "- **Why**: Faster convergence compared to plain SGD.\n",
    "- **Essence**: Adds a momentum term to SGD, which considers past gradients.\n",
    "- **Code**:\n",
    "  ```python\n",
    "  optimizer = torch.optim.SGD(model.parameters(), lr=0.01, momentum=0.9)\n",
    "  ```\n",
    "\n",
    "### Adagrad\n",
    "- **Why**: Suitable for sparse data, adjusts learning rates.\n",
    "- **Essence**: Scales learning rate for each parameter individually.\n",
    "- **Code**:\n",
    "  ```python\n",
    "  optimizer = torch.optim.Adagrad(model.parameters(), lr=0.01)\n",
    "  ```\n",
    "\n",
    "### RMSprop\n",
    "- **Why**: Good for non-stationary objectives.\n",
    "- **Essence**: Adapts learning rates during training.\n",
    "- **Code**:\n",
    "  ```python\n",
    "  optimizer = torch.optim.RMSprop(model.parameters(), lr=0.01)\n",
    "  ```\n",
    "\n",
    "### Adam\n",
    "- **Why**: Good default for many problems.\n",
    "- **Essence**: Combines features of Momentum and RMSprop.\n",
    "- **Code**:\n",
    "  ```python\n",
    "  optimizer = torch.optim.Adam(model.parameters(), lr=0.001)\n",
    "  ```\n",
    "\n",
    "### AdamW\n",
    "- **Why**: Improves generalization.\n",
    "- **Essence**: Similar to Adam but with weight decay.\n",
    "- **Code**:\n",
    "  ```python\n",
    "  optimizer = torch.optim.AdamW(model.parameters(), lr=0.001)\n",
    "  ```\n",
    "\n",
    "Each of these optimizers can be more effective depending on the specific problem, architecture, or data you are working with."
   ]
  },
  {
   "cell_type": "code",
   "execution_count": 193,
   "id": "7b263e65-0691-4ea1-bbf0-d5dcb57a13bd",
   "metadata": {},
   "outputs": [
    {
     "name": "stdout",
     "output_type": "stream",
     "text": [
      "Prediction: 99.21026611328125\n",
      "Actual: 100.0\n",
      "Loss: 0.6236796379089355\n"
     ]
    }
   ],
   "source": [
    "prediction = model(torch.Tensor([[30, 70]]))\n",
    "actual = torch.Tensor([[100]])  # Actual sum of 30 + 70\n",
    "\n",
    "# Compute loss\n",
    "loss_fn = torch.nn.MSELoss()\n",
    "loss = loss_fn(prediction, actual)\n",
    "\n",
    "print(\"Prediction:\", prediction.item())\n",
    "print(\"Actual:\", actual.item())\n",
    "print(\"Loss:\", loss.item())\n"
   ]
  },
  {
   "cell_type": "markdown",
   "id": "22774695-5832-4bb8-a0c2-b059e9d4a6ba",
   "metadata": {},
   "source": [
    "# Using Gradient Descent to adjust the weights of the model\n",
    "\n",
    "The code below will compute the loss and then adjust the weights of the model.  As the block is executed, the loss should decrease.  Try running the block a few times"
   ]
  },
  {
   "cell_type": "code",
   "execution_count": 192,
   "id": "28722e95-33ea-475b-8b52-42c0d796a4d9",
   "metadata": {},
   "outputs": [
    {
     "name": "stdout",
     "output_type": "stream",
     "text": [
      "Prediction: 100.21026611328125\n",
      "Actual: 100.0\n",
      "Loss: 0.21026611328125\n"
     ]
    },
    {
     "data": {
      "text/plain": [
       "tensor([[99.2103]], grad_fn=<AddmmBackward0>)"
      ]
     },
     "execution_count": 192,
     "metadata": {},
     "output_type": "execute_result"
    }
   ],
   "source": [
    "def zero_grad(params):\n",
    "    for param in params:\n",
    "        if param.grad is not None:\n",
    "            param.grad.zero_()\n",
    "\n",
    "def step(params, lr):\n",
    "    for param in params:\n",
    "        param.data -= lr * param.grad\n",
    "\n",
    "prediction = model(torch.Tensor([[30, 70]]))\n",
    "actual = torch.Tensor([[100]])  # Actual sum of 30 + 70\n",
    "\n",
    "# Compute loss\n",
    "loss_fn = torch.nn.L1Loss()\n",
    "loss = loss_fn(prediction, actual)\n",
    "\n",
    "print(\"Prediction:\", prediction.item())\n",
    "print(\"Actual:\", actual.item())\n",
    "print(\"Loss:\", loss.item())\n",
    "\n",
    "# Zero gradients in model\n",
    "zero_grad(model.parameters())\n",
    "\n",
    "# Backward pass\n",
    "loss.backward()\n",
    "\n",
    "# Update parameters of model\n",
    "step(model.parameters(), 1)\n",
    "\n",
    "model(torch.Tensor([[500, 70]]))"
   ]
  },
  {
   "cell_type": "code",
   "execution_count": 46,
   "id": "ed95bda0-822d-4213-b51a-9c39543d6343",
   "metadata": {},
   "outputs": [
    {
     "name": "stdout",
     "output_type": "stream",
     "text": [
      "Adder(\n",
      "  (hidden): Linear(in_features=2, out_features=4, bias=True)\n",
      "  (output): Linear(in_features=4, out_features=1, bias=True)\n",
      ")\n"
     ]
    }
   ],
   "source": [
    "import torch\n",
    "import torch.nn as nn\n",
    "import torch.nn.functional as F\n",
    "\n",
    "class Adder(nn.Module):\n",
    "    def __init__(self):\n",
    "        super(Adder, self).__init__()\n",
    "        \n",
    "        # Input layer to hidden layer (2 inputs to 4 hidden neurons)\n",
    "        self.hidden = nn.Linear(2, 4)\n",
    "        \n",
    "        # Hidden layer to output layer (4 hidden neurons to 1 output)\n",
    "        self.output = nn.Linear(4, 1)\n",
    "        \n",
    "    def forward(self, x):\n",
    "        # Apply hidden layer with activation\n",
    "        x = F.relu(self.hidden(x))\n",
    "        \n",
    "        # Apply output layer\n",
    "        x = self.output(x)\n",
    "        \n",
    "        return x\n",
    "\n",
    "# Instantiate the model\n",
    "model = Adder()\n",
    "\n",
    "# Print the model architecture\n",
    "print(model)\n"
   ]
  },
  {
   "cell_type": "code",
   "execution_count": 139,
   "id": "b2770f97-7869-4cae-a6e2-8b20832f13f0",
   "metadata": {},
   "outputs": [
    {
     "name": "stdout",
     "output_type": "stream",
     "text": [
      "Epoch [1/5000], Loss: 1243433.7500\n",
      "Epoch [500/5000], Loss: 0.1676\n",
      "Epoch [1000/5000], Loss: 0.1572\n",
      "Epoch [1500/5000], Loss: 0.1515\n",
      "Epoch [2000/5000], Loss: 0.1439\n",
      "Epoch [2500/5000], Loss: 0.1344\n",
      "Epoch [3000/5000], Loss: 0.1228\n",
      "Epoch [3500/5000], Loss: 0.1092\n",
      "Epoch [4000/5000], Loss: 0.0938\n",
      "Epoch [4500/5000], Loss: 0.0771\n",
      "Epoch [5000/5000], Loss: 0.0599\n",
      "Predicted sum: 700.25927734375, Actual sum: 700.0\n"
     ]
    }
   ],
   "source": [
    "import torch\n",
    "import torch.nn as nn\n",
    "import torch.optim as optim\n",
    "import torch.nn.functional as F\n",
    "\n",
    "input_data = torch.rand(10000, 2) * 1000  # 10000 samples, 2 features\n",
    "expected_output = input_data[:, 0:1] + input_data[:, 1:2] # first column slice + second column slice\n",
    "\n",
    "# Define the neural network model\n",
    "class Adder(nn.Module):\n",
    "    def __init__(self):\n",
    "        super(Adder, self).__init__()\n",
    "        self.fc = nn.Linear(2, 1)\n",
    "        self.output = nn.Linear(1, 1)\n",
    "\n",
    "    def debug_forward(self, x):\n",
    "        # First layer computation\n",
    "        fc_output = self.fc(x)\n",
    "        print(f\"FC Weights: {self.fc.weight.data}\")\n",
    "        print(f\"FC Bias: {self.fc.bias.data}\")\n",
    "        print(f\"FC Output: {fc_output.data}\")\n",
    "        \n",
    "        # Final output computation\n",
    "        final_output = self.output(fc_output)\n",
    "        print(f\"Output Weights: {self.output.weight.data}\")\n",
    "        print(f\"Output Bias: {self.output.bias.data}\")\n",
    "        print(f\"Final Output: {final_output.data}\")\n",
    "\n",
    "        return final_output\n",
    "    \n",
    "    def forward(self, x):\n",
    "        x = self.fc(x)\n",
    "        return self.output(x)\n",
    "\n",
    "model = Adder()\n",
    "\n",
    "# Loss and optimizer\n",
    "criterion = nn.MSELoss()\n",
    "optimizer = optim.Adam(model.parameters(), lr=0.01)  # Using Adam optimizer\n",
    "\n",
    "epochs = 5000\n",
    "\n",
    "# Training loop\n",
    "for epoch in range(epochs):\n",
    "    # Forward pass\n",
    "    outputs = model(input_data)\n",
    "\n",
    "    # Zero gradients, backward pass\n",
    "    loss = criterion(outputs, expected_output)\n",
    "    optimizer.zero_grad()\n",
    "    loss.backward()\n",
    "    optimizer.step()\n",
    "\n",
    "    print(f'Epoch [{epoch+1}/{epochs}], Loss: {loss.item():.4f}') if epoch == 0 or epoch % (epochs//10) == ((epochs//10)-1) else None\n",
    "\n",
    "# Test the model\n",
    "test_a = torch.Tensor([[500]])  # Normalizing test input\n",
    "test_b = torch.Tensor([[200]])  # Normalizing test input\n",
    "test_input = torch.cat((test_a, test_b), dim=1)\n",
    "predicted_sum = model(test_input).item()  # Re-scaling predicted output\n",
    "print(f'Predicted sum: {predicted_sum}, Actual sum: {test_a.item() + test_b.item()}')\n"
   ]
  },
  {
   "cell_type": "code",
   "execution_count": 80,
   "id": "dee3a37f-2322-4d46-b863-29111b2a181f",
   "metadata": {},
   "outputs": [
    {
     "name": "stdout",
     "output_type": "stream",
     "text": [
      "fc.weight: tensor([[-0.6396, -0.6004],\n",
      "        [-0.4627, -0.5431]])\n",
      "fc.bias: tensor([ 0.0983, -0.0888])\n",
      "output.weight: tensor([[-1.1552, -0.5643]])\n",
      "output.bias: tensor([0.0641])\n"
     ]
    }
   ],
   "source": [
    "for name, param in model.named_parameters():\n",
    "    print(f\"{name}: {param.data}\")"
   ]
  },
  {
   "cell_type": "code",
   "execution_count": 91,
   "id": "a014dd81-fe84-4b3c-8355-21480c769bf5",
   "metadata": {},
   "outputs": [
    {
     "name": "stdout",
     "output_type": "stream",
     "text": [
      "tensor([0.4207], grad_fn=<AddBackward0>)\n"
     ]
    }
   ],
   "source": [
    "fc_out=model.fc.weight[1]+model.fc.bias\n",
    "output_out=(fc_out[1]*model.output.weight[0,1])+model.output.bias\n",
    "print(output_out)"
   ]
  },
  {
   "cell_type": "code",
   "execution_count": 148,
   "id": "04f8606a-b091-4bc7-9149-f8182954c098",
   "metadata": {},
   "outputs": [
    {
     "name": "stdout",
     "output_type": "stream",
     "text": [
      "FC Weights: tensor([[-0.9632, -0.9632]])\n",
      "FC Bias: tensor([-0.1428])\n",
      "FC Output: tensor([[-19265270.]])\n",
      "Output Weights: tensor([[-1.0376]])\n",
      "Output Bias: tensor([0.5024])\n",
      "Final Output: tensor([[19989254.]])\n"
     ]
    },
    {
     "data": {
      "text/plain": [
       "19989254.0"
      ]
     },
     "execution_count": 148,
     "metadata": {},
     "output_type": "execute_result"
    }
   ],
   "source": [
    "model.debug_forward(torch.Tensor([[500, 20000000]])).item()"
   ]
  },
  {
   "cell_type": "code",
   "execution_count": 145,
   "id": "a75d4a32-f62f-415a-b35e-a6d761aa08b1",
   "metadata": {},
   "outputs": [
    {
     "name": "stdout",
     "output_type": "stream",
     "text": [
      "tensor([0.9994, 0.9994], grad_fn=<AddBackward0>)\n"
     ]
    }
   ],
   "source": [
    "print(sum(model.fc.weight[0]*model.output.weight))"
   ]
  },
  {
   "cell_type": "code",
   "execution_count": 114,
   "id": "86220f0d-182d-4b29-b56b-1e6bae4784be",
   "metadata": {},
   "outputs": [
    {
     "data": {
      "image/svg+xml": [
       "<?xml version=\"1.0\" encoding=\"UTF-8\" standalone=\"no\"?>\n",
       "<!DOCTYPE svg PUBLIC \"-//W3C//DTD SVG 1.1//EN\"\n",
       " \"http://www.w3.org/Graphics/SVG/1.1/DTD/svg11.dtd\">\n",
       "<!-- Generated by graphviz version 9.0.0 (20230911.1827)\n",
       " -->\n",
       "<!-- Pages: 1 -->\n",
       "<svg width=\"423pt\" height=\"349pt\"\n",
       " viewBox=\"0.00 0.00 423.00 349.25\" xmlns=\"http://www.w3.org/2000/svg\" xmlns:xlink=\"http://www.w3.org/1999/xlink\">\n",
       "<g id=\"graph0\" class=\"graph\" transform=\"scale(1 1) rotate(0) translate(4 345.25)\">\n",
       "<polygon fill=\"white\" stroke=\"none\" points=\"-4,4 -4,-345.25 419,-345.25 419,4 -4,4\"/>\n",
       "<!-- 4891589040 -->\n",
       "<g id=\"node1\" class=\"node\">\n",
       "<title>4891589040</title>\n",
       "<polygon fill=\"#caff70\" stroke=\"black\" points=\"224,-31.25 166,-31.25 166,0 224,0 224,-31.25\"/>\n",
       "<text text-anchor=\"middle\" x=\"195\" y=\"-5.75\" font-family=\"monospace\" font-size=\"10.00\"> (1, 1)</text>\n",
       "</g>\n",
       "<!-- 4891791408 -->\n",
       "<g id=\"node2\" class=\"node\">\n",
       "<title>4891791408</title>\n",
       "<polygon fill=\"lightgrey\" stroke=\"black\" points=\"245,-86.5 145,-86.5 145,-67.25 245,-67.25 245,-86.5\"/>\n",
       "<text text-anchor=\"middle\" x=\"195\" y=\"-73\" font-family=\"monospace\" font-size=\"10.00\">AddmmBackward0</text>\n",
       "</g>\n",
       "<!-- 4891791408&#45;&gt;4891589040 -->\n",
       "<g id=\"edge12\" class=\"edge\">\n",
       "<title>4891791408&#45;&gt;4891589040</title>\n",
       "<path fill=\"none\" stroke=\"black\" d=\"M195,-66.88C195,-60.54 195,-51.7 195,-43.2\"/>\n",
       "<polygon fill=\"black\" stroke=\"black\" points=\"198.5,-43.22 195,-33.22 191.5,-43.22 198.5,-43.22\"/>\n",
       "</g>\n",
       "<!-- 4891791648 -->\n",
       "<g id=\"node3\" class=\"node\">\n",
       "<title>4891791648</title>\n",
       "<polygon fill=\"lightgrey\" stroke=\"black\" points=\"103,-141.75 3,-141.75 3,-122.5 103,-122.5 103,-141.75\"/>\n",
       "<text text-anchor=\"middle\" x=\"53\" y=\"-128.25\" font-family=\"monospace\" font-size=\"10.00\">AccumulateGrad</text>\n",
       "</g>\n",
       "<!-- 4891791648&#45;&gt;4891791408 -->\n",
       "<g id=\"edge1\" class=\"edge\">\n",
       "<title>4891791648&#45;&gt;4891791408</title>\n",
       "<path fill=\"none\" stroke=\"black\" d=\"M77.09,-122.09C99.94,-113.52 134.52,-100.56 160.33,-90.88\"/>\n",
       "<polygon fill=\"black\" stroke=\"black\" points=\"161.24,-94.27 169.38,-87.48 158.78,-87.72 161.24,-94.27\"/>\n",
       "</g>\n",
       "<!-- 4891588848 -->\n",
       "<g id=\"node4\" class=\"node\">\n",
       "<title>4891588848</title>\n",
       "<polygon fill=\"lightblue\" stroke=\"black\" points=\"82,-208.25 0,-208.25 0,-177.75 82,-177.75 82,-208.25\"/>\n",
       "<text text-anchor=\"middle\" x=\"41\" y=\"-194.75\" font-family=\"monospace\" font-size=\"10.00\">output.bias</text>\n",
       "<text text-anchor=\"middle\" x=\"41\" y=\"-183.5\" font-family=\"monospace\" font-size=\"10.00\"> (1)</text>\n",
       "</g>\n",
       "<!-- 4891588848&#45;&gt;4891791648 -->\n",
       "<g id=\"edge2\" class=\"edge\">\n",
       "<title>4891588848&#45;&gt;4891791648</title>\n",
       "<path fill=\"none\" stroke=\"black\" d=\"M43.97,-177.45C45.44,-170.21 47.25,-161.34 48.86,-153.44\"/>\n",
       "<polygon fill=\"black\" stroke=\"black\" points=\"52.28,-154.18 50.85,-143.68 45.42,-152.78 52.28,-154.18\"/>\n",
       "</g>\n",
       "<!-- 4891791984 -->\n",
       "<g id=\"node5\" class=\"node\">\n",
       "<title>4891791984</title>\n",
       "<polygon fill=\"lightgrey\" stroke=\"black\" points=\"245,-141.75 145,-141.75 145,-122.5 245,-122.5 245,-141.75\"/>\n",
       "<text text-anchor=\"middle\" x=\"195\" y=\"-128.25\" font-family=\"monospace\" font-size=\"10.00\">AddmmBackward0</text>\n",
       "</g>\n",
       "<!-- 4891791984&#45;&gt;4891791408 -->\n",
       "<g id=\"edge3\" class=\"edge\">\n",
       "<title>4891791984&#45;&gt;4891791408</title>\n",
       "<path fill=\"none\" stroke=\"black\" d=\"M195,-122.33C195,-115.82 195,-106.67 195,-98.37\"/>\n",
       "<polygon fill=\"black\" stroke=\"black\" points=\"198.5,-98.37 195,-88.37 191.5,-98.37 198.5,-98.37\"/>\n",
       "</g>\n",
       "<!-- 4891792608 -->\n",
       "<g id=\"node6\" class=\"node\">\n",
       "<title>4891792608</title>\n",
       "<polygon fill=\"lightgrey\" stroke=\"black\" points=\"200,-202.62 100,-202.62 100,-183.38 200,-183.38 200,-202.62\"/>\n",
       "<text text-anchor=\"middle\" x=\"150\" y=\"-189.12\" font-family=\"monospace\" font-size=\"10.00\">AccumulateGrad</text>\n",
       "</g>\n",
       "<!-- 4891792608&#45;&gt;4891791984 -->\n",
       "<g id=\"edge4\" class=\"edge\">\n",
       "<title>4891792608&#45;&gt;4891791984</title>\n",
       "<path fill=\"none\" stroke=\"black\" d=\"M156.83,-183.06C163.31,-174.59 173.22,-161.62 181.32,-151.02\"/>\n",
       "<polygon fill=\"black\" stroke=\"black\" points=\"183.89,-153.42 187.18,-143.35 178.33,-149.17 183.89,-153.42\"/>\n",
       "</g>\n",
       "<!-- 4891586352 -->\n",
       "<g id=\"node7\" class=\"node\">\n",
       "<title>4891586352</title>\n",
       "<polygon fill=\"lightblue\" stroke=\"black\" points=\"179,-274.75 121,-274.75 121,-244.25 179,-244.25 179,-274.75\"/>\n",
       "<text text-anchor=\"middle\" x=\"150\" y=\"-261.25\" font-family=\"monospace\" font-size=\"10.00\">fc.bias</text>\n",
       "<text text-anchor=\"middle\" x=\"150\" y=\"-250\" font-family=\"monospace\" font-size=\"10.00\"> (2)</text>\n",
       "</g>\n",
       "<!-- 4891586352&#45;&gt;4891792608 -->\n",
       "<g id=\"edge5\" class=\"edge\">\n",
       "<title>4891586352&#45;&gt;4891792608</title>\n",
       "<path fill=\"none\" stroke=\"black\" d=\"M150,-243.86C150,-235.08 150,-223.77 150,-214.15\"/>\n",
       "<polygon fill=\"black\" stroke=\"black\" points=\"153.5,-214.34 150,-204.34 146.5,-214.34 153.5,-214.34\"/>\n",
       "</g>\n",
       "<!-- 4891793760 -->\n",
       "<g id=\"node8\" class=\"node\">\n",
       "<title>4891793760</title>\n",
       "<polygon fill=\"lightgrey\" stroke=\"black\" points=\"294,-202.62 218,-202.62 218,-183.38 294,-183.38 294,-202.62\"/>\n",
       "<text text-anchor=\"middle\" x=\"256\" y=\"-189.12\" font-family=\"monospace\" font-size=\"10.00\">TBackward0</text>\n",
       "</g>\n",
       "<!-- 4891793760&#45;&gt;4891791984 -->\n",
       "<g id=\"edge6\" class=\"edge\">\n",
       "<title>4891793760&#45;&gt;4891791984</title>\n",
       "<path fill=\"none\" stroke=\"black\" d=\"M246.74,-183.06C237.69,-174.33 223.69,-160.82 212.54,-150.05\"/>\n",
       "<polygon fill=\"black\" stroke=\"black\" points=\"215.07,-147.63 205.44,-143.2 210.21,-152.67 215.07,-147.63\"/>\n",
       "</g>\n",
       "<!-- 4891792416 -->\n",
       "<g id=\"node9\" class=\"node\">\n",
       "<title>4891792416</title>\n",
       "<polygon fill=\"lightgrey\" stroke=\"black\" points=\"303,-269.12 203,-269.12 203,-249.88 303,-249.88 303,-269.12\"/>\n",
       "<text text-anchor=\"middle\" x=\"253\" y=\"-255.62\" font-family=\"monospace\" font-size=\"10.00\">AccumulateGrad</text>\n",
       "</g>\n",
       "<!-- 4891792416&#45;&gt;4891793760 -->\n",
       "<g id=\"edge7\" class=\"edge\">\n",
       "<title>4891792416&#45;&gt;4891793760</title>\n",
       "<path fill=\"none\" stroke=\"black\" d=\"M253.42,-249.53C253.84,-240.48 254.5,-226.2 255.05,-214.38\"/>\n",
       "<polygon fill=\"black\" stroke=\"black\" points=\"258.55,-214.56 255.52,-204.4 251.56,-214.23 258.55,-214.56\"/>\n",
       "</g>\n",
       "<!-- 4891588656 -->\n",
       "<g id=\"node10\" class=\"node\">\n",
       "<title>4891588656</title>\n",
       "<polygon fill=\"lightblue\" stroke=\"black\" points=\"288,-341.25 218,-341.25 218,-310.75 288,-310.75 288,-341.25\"/>\n",
       "<text text-anchor=\"middle\" x=\"253\" y=\"-327.75\" font-family=\"monospace\" font-size=\"10.00\">fc.weight</text>\n",
       "<text text-anchor=\"middle\" x=\"253\" y=\"-316.5\" font-family=\"monospace\" font-size=\"10.00\"> (2, 2)</text>\n",
       "</g>\n",
       "<!-- 4891588656&#45;&gt;4891792416 -->\n",
       "<g id=\"edge8\" class=\"edge\">\n",
       "<title>4891588656&#45;&gt;4891792416</title>\n",
       "<path fill=\"none\" stroke=\"black\" d=\"M253,-310.36C253,-301.58 253,-290.27 253,-280.65\"/>\n",
       "<polygon fill=\"black\" stroke=\"black\" points=\"256.5,-280.84 253,-270.84 249.5,-280.84 256.5,-280.84\"/>\n",
       "</g>\n",
       "<!-- 4891791312 -->\n",
       "<g id=\"node11\" class=\"node\">\n",
       "<title>4891791312</title>\n",
       "<polygon fill=\"lightgrey\" stroke=\"black\" points=\"387,-141.75 311,-141.75 311,-122.5 387,-122.5 387,-141.75\"/>\n",
       "<text text-anchor=\"middle\" x=\"349\" y=\"-128.25\" font-family=\"monospace\" font-size=\"10.00\">TBackward0</text>\n",
       "</g>\n",
       "<!-- 4891791312&#45;&gt;4891791408 -->\n",
       "<g id=\"edge9\" class=\"edge\">\n",
       "<title>4891791312&#45;&gt;4891791408</title>\n",
       "<path fill=\"none\" stroke=\"black\" d=\"M322.88,-122.09C297.88,-113.45 259.92,-100.32 231.85,-90.62\"/>\n",
       "<polygon fill=\"black\" stroke=\"black\" points=\"233.28,-87.41 222.68,-87.45 230.99,-94.02 233.28,-87.41\"/>\n",
       "</g>\n",
       "<!-- 4891794768 -->\n",
       "<g id=\"node12\" class=\"node\">\n",
       "<title>4891794768</title>\n",
       "<polygon fill=\"lightgrey\" stroke=\"black\" points=\"414,-202.62 314,-202.62 314,-183.38 414,-183.38 414,-202.62\"/>\n",
       "<text text-anchor=\"middle\" x=\"364\" y=\"-189.12\" font-family=\"monospace\" font-size=\"10.00\">AccumulateGrad</text>\n",
       "</g>\n",
       "<!-- 4891794768&#45;&gt;4891791312 -->\n",
       "<g id=\"edge10\" class=\"edge\">\n",
       "<title>4891794768&#45;&gt;4891791312</title>\n",
       "<path fill=\"none\" stroke=\"black\" d=\"M361.72,-183.06C359.7,-175.1 356.66,-163.19 354.06,-152.99\"/>\n",
       "<polygon fill=\"black\" stroke=\"black\" points=\"357.53,-152.44 351.67,-143.62 350.75,-154.17 357.53,-152.44\"/>\n",
       "</g>\n",
       "<!-- 4891588752 -->\n",
       "<g id=\"node13\" class=\"node\">\n",
       "<title>4891588752</title>\n",
       "<polygon fill=\"lightblue\" stroke=\"black\" points=\"415,-274.75 321,-274.75 321,-244.25 415,-244.25 415,-274.75\"/>\n",
       "<text text-anchor=\"middle\" x=\"368\" y=\"-261.25\" font-family=\"monospace\" font-size=\"10.00\">output.weight</text>\n",
       "<text text-anchor=\"middle\" x=\"368\" y=\"-250\" font-family=\"monospace\" font-size=\"10.00\"> (1, 2)</text>\n",
       "</g>\n",
       "<!-- 4891588752&#45;&gt;4891794768 -->\n",
       "<g id=\"edge11\" class=\"edge\">\n",
       "<title>4891588752&#45;&gt;4891794768</title>\n",
       "<path fill=\"none\" stroke=\"black\" d=\"M367.09,-243.86C366.55,-235.08 365.85,-223.77 365.25,-214.15\"/>\n",
       "<polygon fill=\"black\" stroke=\"black\" points=\"368.75,-214.1 364.64,-204.33 361.77,-214.53 368.75,-214.1\"/>\n",
       "</g>\n",
       "</g>\n",
       "</svg>\n"
      ],
      "text/plain": [
       "<graphviz.graphs.Digraph at 0x109a2aa90>"
      ]
     },
     "metadata": {},
     "output_type": "display_data"
    }
   ],
   "source": [
    "from torchviz import make_dot\n",
    "from IPython.display import display\n",
    "\n",
    "# Forward pass\n",
    "model = Adder()\n",
    "y = model(torch.Tensor([[500000, 20000]]))\n",
    "\n",
    "# Visualize\n",
    "dot = make_dot(y, params=dict(model.named_parameters()))\n",
    "display(dot)"
   ]
  },
  {
   "cell_type": "code",
   "execution_count": 116,
   "id": "b91f7bcd-cd89-414a-a259-d8f943ae1ff2",
   "metadata": {},
   "outputs": [
    {
     "data": {
      "text/plain": [
       "'Digraph.gv.pdf'"
      ]
     },
     "execution_count": 116,
     "metadata": {},
     "output_type": "execute_result"
    }
   ],
   "source": [
    "from graphviz import Digraph\n",
    "import torch\n",
    "\n",
    "# Initialize your model\n",
    "model = Adder()\n",
    "\n",
    "# Create a Digraph object\n",
    "dot = Digraph(comment='Adder Network')\n",
    "\n",
    "# Add nodes (layers)\n",
    "dot.node('A', 'Input(2)')\n",
    "dot.node('B', f'Linear(2, 2)\\n w: {model.fc.weight.data}\\n b: {model.fc.bias.data}')\n",
    "dot.node('C', f'Linear(2, 1)\\n w: {model.output.weight.data}\\n b: {model.output.bias.data}')\n",
    "dot.node('D', 'Output(1)')\n",
    "\n",
    "# Add edges (connections)\n",
    "dot.edge('A', 'B', 'fc')\n",
    "dot.edge('B', 'C', 'output')\n",
    "dot.edge('C', 'D', ' ')\n",
    "\n",
    "# Visualize the graph\n",
    "dot.view()\n"
   ]
  }
 ],
 "metadata": {
  "kernelspec": {
   "display_name": "Python 3 (ipykernel)",
   "language": "python",
   "name": "python3"
  },
  "language_info": {
   "codemirror_mode": {
    "name": "ipython",
    "version": 3
   },
   "file_extension": ".py",
   "mimetype": "text/x-python",
   "name": "python",
   "nbconvert_exporter": "python",
   "pygments_lexer": "ipython3",
   "version": "3.11.4"
  }
 },
 "nbformat": 4,
 "nbformat_minor": 5
}
